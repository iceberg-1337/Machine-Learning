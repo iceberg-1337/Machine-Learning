{
 "cells": [
  {
   "cell_type": "markdown",
   "metadata": {},
   "source": [
    "# K Ближайших соседей\n",
    "\n",
    "Welcome to the KNN Project! This will be a simple project very similar to the lecture, except you'll be given another data set. Go ahead and just follow the directions below.\n",
    "\n",
    "## Import Libraries\n",
    "**Import pandas, and the usual libraries.**"
   ]
  },
  {
   "cell_type": "code",
   "execution_count": 1,
   "metadata": {
    "collapsed": true,
    "ExecuteTime": {
     "end_time": "2024-05-21T09:48:04.158326200Z",
     "start_time": "2024-05-21T09:48:02.404840100Z"
    }
   },
   "outputs": [],
   "source": [
    "import pandas as pd\n",
    "import numpy as np\n",
    "import matplotlib.pyplot as plt"
   ]
  },
  {
   "cell_type": "markdown",
   "metadata": {},
   "source": [
    "## Get the Data\n",
    "**Read the 'KNN_Project_Data csv file into a dataframe**"
   ]
  },
  {
   "cell_type": "code",
   "execution_count": 2,
   "metadata": {
    "collapsed": true,
    "ExecuteTime": {
     "end_time": "2024-05-21T09:48:04.213153400Z",
     "start_time": "2024-05-21T09:48:04.160324800Z"
    }
   },
   "outputs": [
    {
     "data": {
      "text/plain": "            XVPM         GWYH         TRAT        TLLZ         IGGA  \\\n0    1636.670614   817.988525  2565.995189  358.347163   550.417491   \n1    1013.402760   577.587332  2644.141273  280.428203  1161.873391   \n2    1300.035501   820.518697  2025.854469  525.562292   922.206261   \n3    1059.347542  1066.866418   612.000041  480.827789   419.467495   \n4    1018.340526  1313.679056   950.622661  724.742174   843.065903   \n..           ...          ...          ...         ...          ...   \n995  1343.060600  1289.142057   407.307449  567.564764  1000.953905   \n996   938.847057  1142.884331  2096.064295  483.242220   522.755771   \n997   921.994822   607.996901  2065.482529  497.107790   457.430427   \n998  1157.069348   602.749160  1548.809995  646.809528  1335.737820   \n999  1287.150025  1303.600085  2247.287535  664.362479  1132.682562   \n\n            HYKR         EDFS        GUUB         MGJM         JHZC  \\\n0    1618.870897  2147.641254  330.727893  1494.878631   845.136088   \n1    2084.107872   853.404981  447.157619  1193.032521   861.081809   \n2    2552.355407   818.676686  845.491492  1968.367513  1647.186291   \n3     685.666983   852.867810  341.664784  1154.391368  1450.935357   \n4    1370.554164   905.469453  658.118202   539.459350  1899.850792   \n..           ...          ...         ...          ...          ...   \n995   919.602401   485.269059  668.007397  1124.772996  2127.628290   \n996  1703.169782  2007.548635  533.514816   379.264597   567.200545   \n997  1577.506205  1659.197738  186.854577   978.340107  1943.304912   \n998  1455.504390  2788.366441  552.388107  1264.818079  1331.879020   \n999   991.774941  2007.676371  251.916948   846.167511   952.895751   \n\n     TARGET CLASS  \n0               0  \n1               1  \n2               1  \n3               0  \n4               0  \n..            ...  \n995             0  \n996             1  \n997             1  \n998             1  \n999             1  \n\n[1000 rows x 11 columns]",
      "text/html": "<div>\n<style scoped>\n    .dataframe tbody tr th:only-of-type {\n        vertical-align: middle;\n    }\n\n    .dataframe tbody tr th {\n        vertical-align: top;\n    }\n\n    .dataframe thead th {\n        text-align: right;\n    }\n</style>\n<table border=\"1\" class=\"dataframe\">\n  <thead>\n    <tr style=\"text-align: right;\">\n      <th></th>\n      <th>XVPM</th>\n      <th>GWYH</th>\n      <th>TRAT</th>\n      <th>TLLZ</th>\n      <th>IGGA</th>\n      <th>HYKR</th>\n      <th>EDFS</th>\n      <th>GUUB</th>\n      <th>MGJM</th>\n      <th>JHZC</th>\n      <th>TARGET CLASS</th>\n    </tr>\n  </thead>\n  <tbody>\n    <tr>\n      <th>0</th>\n      <td>1636.670614</td>\n      <td>817.988525</td>\n      <td>2565.995189</td>\n      <td>358.347163</td>\n      <td>550.417491</td>\n      <td>1618.870897</td>\n      <td>2147.641254</td>\n      <td>330.727893</td>\n      <td>1494.878631</td>\n      <td>845.136088</td>\n      <td>0</td>\n    </tr>\n    <tr>\n      <th>1</th>\n      <td>1013.402760</td>\n      <td>577.587332</td>\n      <td>2644.141273</td>\n      <td>280.428203</td>\n      <td>1161.873391</td>\n      <td>2084.107872</td>\n      <td>853.404981</td>\n      <td>447.157619</td>\n      <td>1193.032521</td>\n      <td>861.081809</td>\n      <td>1</td>\n    </tr>\n    <tr>\n      <th>2</th>\n      <td>1300.035501</td>\n      <td>820.518697</td>\n      <td>2025.854469</td>\n      <td>525.562292</td>\n      <td>922.206261</td>\n      <td>2552.355407</td>\n      <td>818.676686</td>\n      <td>845.491492</td>\n      <td>1968.367513</td>\n      <td>1647.186291</td>\n      <td>1</td>\n    </tr>\n    <tr>\n      <th>3</th>\n      <td>1059.347542</td>\n      <td>1066.866418</td>\n      <td>612.000041</td>\n      <td>480.827789</td>\n      <td>419.467495</td>\n      <td>685.666983</td>\n      <td>852.867810</td>\n      <td>341.664784</td>\n      <td>1154.391368</td>\n      <td>1450.935357</td>\n      <td>0</td>\n    </tr>\n    <tr>\n      <th>4</th>\n      <td>1018.340526</td>\n      <td>1313.679056</td>\n      <td>950.622661</td>\n      <td>724.742174</td>\n      <td>843.065903</td>\n      <td>1370.554164</td>\n      <td>905.469453</td>\n      <td>658.118202</td>\n      <td>539.459350</td>\n      <td>1899.850792</td>\n      <td>0</td>\n    </tr>\n    <tr>\n      <th>...</th>\n      <td>...</td>\n      <td>...</td>\n      <td>...</td>\n      <td>...</td>\n      <td>...</td>\n      <td>...</td>\n      <td>...</td>\n      <td>...</td>\n      <td>...</td>\n      <td>...</td>\n      <td>...</td>\n    </tr>\n    <tr>\n      <th>995</th>\n      <td>1343.060600</td>\n      <td>1289.142057</td>\n      <td>407.307449</td>\n      <td>567.564764</td>\n      <td>1000.953905</td>\n      <td>919.602401</td>\n      <td>485.269059</td>\n      <td>668.007397</td>\n      <td>1124.772996</td>\n      <td>2127.628290</td>\n      <td>0</td>\n    </tr>\n    <tr>\n      <th>996</th>\n      <td>938.847057</td>\n      <td>1142.884331</td>\n      <td>2096.064295</td>\n      <td>483.242220</td>\n      <td>522.755771</td>\n      <td>1703.169782</td>\n      <td>2007.548635</td>\n      <td>533.514816</td>\n      <td>379.264597</td>\n      <td>567.200545</td>\n      <td>1</td>\n    </tr>\n    <tr>\n      <th>997</th>\n      <td>921.994822</td>\n      <td>607.996901</td>\n      <td>2065.482529</td>\n      <td>497.107790</td>\n      <td>457.430427</td>\n      <td>1577.506205</td>\n      <td>1659.197738</td>\n      <td>186.854577</td>\n      <td>978.340107</td>\n      <td>1943.304912</td>\n      <td>1</td>\n    </tr>\n    <tr>\n      <th>998</th>\n      <td>1157.069348</td>\n      <td>602.749160</td>\n      <td>1548.809995</td>\n      <td>646.809528</td>\n      <td>1335.737820</td>\n      <td>1455.504390</td>\n      <td>2788.366441</td>\n      <td>552.388107</td>\n      <td>1264.818079</td>\n      <td>1331.879020</td>\n      <td>1</td>\n    </tr>\n    <tr>\n      <th>999</th>\n      <td>1287.150025</td>\n      <td>1303.600085</td>\n      <td>2247.287535</td>\n      <td>664.362479</td>\n      <td>1132.682562</td>\n      <td>991.774941</td>\n      <td>2007.676371</td>\n      <td>251.916948</td>\n      <td>846.167511</td>\n      <td>952.895751</td>\n      <td>1</td>\n    </tr>\n  </tbody>\n</table>\n<p>1000 rows × 11 columns</p>\n</div>"
     },
     "execution_count": 2,
     "metadata": {},
     "output_type": "execute_result"
    }
   ],
   "source": [
    "df = pd.read_csv('KNN_Project_Data.csv')\n",
    "df"
   ]
  },
  {
   "cell_type": "markdown",
   "metadata": {},
   "source": [
    "**Check the head of the dataframe.**"
   ]
  },
  {
   "cell_type": "code",
   "execution_count": 3,
   "metadata": {
    "ExecuteTime": {
     "end_time": "2024-05-21T09:48:04.279146500Z",
     "start_time": "2024-05-21T09:48:04.220151400Z"
    }
   },
   "outputs": [
    {
     "data": {
      "text/plain": "          XVPM         GWYH         TRAT        TLLZ         IGGA  \\\n0  1636.670614   817.988525  2565.995189  358.347163   550.417491   \n1  1013.402760   577.587332  2644.141273  280.428203  1161.873391   \n2  1300.035501   820.518697  2025.854469  525.562292   922.206261   \n3  1059.347542  1066.866418   612.000041  480.827789   419.467495   \n4  1018.340526  1313.679056   950.622661  724.742174   843.065903   \n\n          HYKR         EDFS        GUUB         MGJM         JHZC  \\\n0  1618.870897  2147.641254  330.727893  1494.878631   845.136088   \n1  2084.107872   853.404981  447.157619  1193.032521   861.081809   \n2  2552.355407   818.676686  845.491492  1968.367513  1647.186291   \n3   685.666983   852.867810  341.664784  1154.391368  1450.935357   \n4  1370.554164   905.469453  658.118202   539.459350  1899.850792   \n\n   TARGET CLASS  \n0             0  \n1             1  \n2             1  \n3             0  \n4             0  ",
      "text/html": "<div>\n<style scoped>\n    .dataframe tbody tr th:only-of-type {\n        vertical-align: middle;\n    }\n\n    .dataframe tbody tr th {\n        vertical-align: top;\n    }\n\n    .dataframe thead th {\n        text-align: right;\n    }\n</style>\n<table border=\"1\" class=\"dataframe\">\n  <thead>\n    <tr style=\"text-align: right;\">\n      <th></th>\n      <th>XVPM</th>\n      <th>GWYH</th>\n      <th>TRAT</th>\n      <th>TLLZ</th>\n      <th>IGGA</th>\n      <th>HYKR</th>\n      <th>EDFS</th>\n      <th>GUUB</th>\n      <th>MGJM</th>\n      <th>JHZC</th>\n      <th>TARGET CLASS</th>\n    </tr>\n  </thead>\n  <tbody>\n    <tr>\n      <th>0</th>\n      <td>1636.670614</td>\n      <td>817.988525</td>\n      <td>2565.995189</td>\n      <td>358.347163</td>\n      <td>550.417491</td>\n      <td>1618.870897</td>\n      <td>2147.641254</td>\n      <td>330.727893</td>\n      <td>1494.878631</td>\n      <td>845.136088</td>\n      <td>0</td>\n    </tr>\n    <tr>\n      <th>1</th>\n      <td>1013.402760</td>\n      <td>577.587332</td>\n      <td>2644.141273</td>\n      <td>280.428203</td>\n      <td>1161.873391</td>\n      <td>2084.107872</td>\n      <td>853.404981</td>\n      <td>447.157619</td>\n      <td>1193.032521</td>\n      <td>861.081809</td>\n      <td>1</td>\n    </tr>\n    <tr>\n      <th>2</th>\n      <td>1300.035501</td>\n      <td>820.518697</td>\n      <td>2025.854469</td>\n      <td>525.562292</td>\n      <td>922.206261</td>\n      <td>2552.355407</td>\n      <td>818.676686</td>\n      <td>845.491492</td>\n      <td>1968.367513</td>\n      <td>1647.186291</td>\n      <td>1</td>\n    </tr>\n    <tr>\n      <th>3</th>\n      <td>1059.347542</td>\n      <td>1066.866418</td>\n      <td>612.000041</td>\n      <td>480.827789</td>\n      <td>419.467495</td>\n      <td>685.666983</td>\n      <td>852.867810</td>\n      <td>341.664784</td>\n      <td>1154.391368</td>\n      <td>1450.935357</td>\n      <td>0</td>\n    </tr>\n    <tr>\n      <th>4</th>\n      <td>1018.340526</td>\n      <td>1313.679056</td>\n      <td>950.622661</td>\n      <td>724.742174</td>\n      <td>843.065903</td>\n      <td>1370.554164</td>\n      <td>905.469453</td>\n      <td>658.118202</td>\n      <td>539.459350</td>\n      <td>1899.850792</td>\n      <td>0</td>\n    </tr>\n  </tbody>\n</table>\n</div>"
     },
     "execution_count": 3,
     "metadata": {},
     "output_type": "execute_result"
    }
   ],
   "source": [
    "df.head()"
   ]
  },
  {
   "cell_type": "markdown",
   "metadata": {},
   "source": [
    "# Standardize the Variables\n",
    "\n",
    "Time to standardize the variables.\n",
    "\n",
    "**Import StandardScaler from Scikit learn.**"
   ]
  },
  {
   "cell_type": "code",
   "execution_count": 4,
   "metadata": {
    "collapsed": true,
    "ExecuteTime": {
     "end_time": "2024-05-21T09:48:06.462779700Z",
     "start_time": "2024-05-21T09:48:04.241153600Z"
    }
   },
   "outputs": [],
   "source": [
    "from sklearn.preprocessing import StandardScaler"
   ]
  },
  {
   "cell_type": "markdown",
   "metadata": {},
   "source": [
    "**Create a StandardScaler() object called scaler.**"
   ]
  },
  {
   "cell_type": "code",
   "execution_count": 5,
   "metadata": {
    "collapsed": true,
    "ExecuteTime": {
     "end_time": "2024-05-21T09:48:06.475774500Z",
     "start_time": "2024-05-21T09:48:06.465776100Z"
    }
   },
   "outputs": [],
   "source": [
    "scaler = StandardScaler()"
   ]
  },
  {
   "cell_type": "markdown",
   "metadata": {},
   "source": [
    "**Fit scaler to the features.**"
   ]
  },
  {
   "cell_type": "code",
   "execution_count": 6,
   "metadata": {
    "ExecuteTime": {
     "end_time": "2024-05-21T09:48:06.507783200Z",
     "start_time": "2024-05-21T09:48:06.478775400Z"
    }
   },
   "outputs": [
    {
     "data": {
      "text/plain": "StandardScaler()",
      "text/html": "<style>#sk-container-id-1 {color: black;background-color: white;}#sk-container-id-1 pre{padding: 0;}#sk-container-id-1 div.sk-toggleable {background-color: white;}#sk-container-id-1 label.sk-toggleable__label {cursor: pointer;display: block;width: 100%;margin-bottom: 0;padding: 0.3em;box-sizing: border-box;text-align: center;}#sk-container-id-1 label.sk-toggleable__label-arrow:before {content: \"▸\";float: left;margin-right: 0.25em;color: #696969;}#sk-container-id-1 label.sk-toggleable__label-arrow:hover:before {color: black;}#sk-container-id-1 div.sk-estimator:hover label.sk-toggleable__label-arrow:before {color: black;}#sk-container-id-1 div.sk-toggleable__content {max-height: 0;max-width: 0;overflow: hidden;text-align: left;background-color: #f0f8ff;}#sk-container-id-1 div.sk-toggleable__content pre {margin: 0.2em;color: black;border-radius: 0.25em;background-color: #f0f8ff;}#sk-container-id-1 input.sk-toggleable__control:checked~div.sk-toggleable__content {max-height: 200px;max-width: 100%;overflow: auto;}#sk-container-id-1 input.sk-toggleable__control:checked~label.sk-toggleable__label-arrow:before {content: \"▾\";}#sk-container-id-1 div.sk-estimator input.sk-toggleable__control:checked~label.sk-toggleable__label {background-color: #d4ebff;}#sk-container-id-1 div.sk-label input.sk-toggleable__control:checked~label.sk-toggleable__label {background-color: #d4ebff;}#sk-container-id-1 input.sk-hidden--visually {border: 0;clip: rect(1px 1px 1px 1px);clip: rect(1px, 1px, 1px, 1px);height: 1px;margin: -1px;overflow: hidden;padding: 0;position: absolute;width: 1px;}#sk-container-id-1 div.sk-estimator {font-family: monospace;background-color: #f0f8ff;border: 1px dotted black;border-radius: 0.25em;box-sizing: border-box;margin-bottom: 0.5em;}#sk-container-id-1 div.sk-estimator:hover {background-color: #d4ebff;}#sk-container-id-1 div.sk-parallel-item::after {content: \"\";width: 100%;border-bottom: 1px solid gray;flex-grow: 1;}#sk-container-id-1 div.sk-label:hover label.sk-toggleable__label {background-color: #d4ebff;}#sk-container-id-1 div.sk-serial::before {content: \"\";position: absolute;border-left: 1px solid gray;box-sizing: border-box;top: 0;bottom: 0;left: 50%;z-index: 0;}#sk-container-id-1 div.sk-serial {display: flex;flex-direction: column;align-items: center;background-color: white;padding-right: 0.2em;padding-left: 0.2em;position: relative;}#sk-container-id-1 div.sk-item {position: relative;z-index: 1;}#sk-container-id-1 div.sk-parallel {display: flex;align-items: stretch;justify-content: center;background-color: white;position: relative;}#sk-container-id-1 div.sk-item::before, #sk-container-id-1 div.sk-parallel-item::before {content: \"\";position: absolute;border-left: 1px solid gray;box-sizing: border-box;top: 0;bottom: 0;left: 50%;z-index: -1;}#sk-container-id-1 div.sk-parallel-item {display: flex;flex-direction: column;z-index: 1;position: relative;background-color: white;}#sk-container-id-1 div.sk-parallel-item:first-child::after {align-self: flex-end;width: 50%;}#sk-container-id-1 div.sk-parallel-item:last-child::after {align-self: flex-start;width: 50%;}#sk-container-id-1 div.sk-parallel-item:only-child::after {width: 0;}#sk-container-id-1 div.sk-dashed-wrapped {border: 1px dashed gray;margin: 0 0.4em 0.5em 0.4em;box-sizing: border-box;padding-bottom: 0.4em;background-color: white;}#sk-container-id-1 div.sk-label label {font-family: monospace;font-weight: bold;display: inline-block;line-height: 1.2em;}#sk-container-id-1 div.sk-label-container {text-align: center;}#sk-container-id-1 div.sk-container {/* jupyter's `normalize.less` sets `[hidden] { display: none; }` but bootstrap.min.css set `[hidden] { display: none !important; }` so we also need the `!important` here to be able to override the default hidden behavior on the sphinx rendered scikit-learn.org. See: https://github.com/scikit-learn/scikit-learn/issues/21755 */display: inline-block !important;position: relative;}#sk-container-id-1 div.sk-text-repr-fallback {display: none;}</style><div id=\"sk-container-id-1\" class=\"sk-top-container\"><div class=\"sk-text-repr-fallback\"><pre>StandardScaler()</pre><b>In a Jupyter environment, please rerun this cell to show the HTML representation or trust the notebook. <br />On GitHub, the HTML representation is unable to render, please try loading this page with nbviewer.org.</b></div><div class=\"sk-container\" hidden><div class=\"sk-item\"><div class=\"sk-estimator sk-toggleable\"><input class=\"sk-toggleable__control sk-hidden--visually\" id=\"sk-estimator-id-1\" type=\"checkbox\" checked><label for=\"sk-estimator-id-1\" class=\"sk-toggleable__label sk-toggleable__label-arrow\">StandardScaler</label><div class=\"sk-toggleable__content\"><pre>StandardScaler()</pre></div></div></div></div></div>"
     },
     "execution_count": 6,
     "metadata": {},
     "output_type": "execute_result"
    }
   ],
   "source": [
    "scaler.fit(df.drop('TARGET CLASS',axis=1))"
   ]
  },
  {
   "cell_type": "markdown",
   "metadata": {},
   "source": [
    "**Use the .transform() method to transform the features to a scaled version.**"
   ]
  },
  {
   "cell_type": "code",
   "execution_count": 7,
   "metadata": {
    "collapsed": true,
    "ExecuteTime": {
     "end_time": "2024-05-21T09:48:06.523773600Z",
     "start_time": "2024-05-21T09:48:06.509782Z"
    }
   },
   "outputs": [
    {
     "data": {
      "text/plain": "array([[ 1.56852168, -0.44343461,  1.61980773, ..., -0.93279392,\n         1.00831307, -1.06962723],\n       [-0.11237594, -1.05657361,  1.7419175 , ..., -0.46186435,\n         0.25832069, -1.04154625],\n       [ 0.66064691, -0.43698145,  0.77579285, ...,  1.14929806,\n         2.1847836 ,  0.34281129],\n       ...,\n       [-0.35889496, -0.97901454,  0.83771499, ..., -1.51472604,\n        -0.27512225,  0.86428656],\n       [ 0.27507999, -0.99239881,  0.0303711 , ..., -0.03623294,\n         0.43668516, -0.21245586],\n       [ 0.62589594,  0.79510909,  1.12180047, ..., -1.25156478,\n        -0.60352946, -0.87985868]])"
     },
     "execution_count": 7,
     "metadata": {},
     "output_type": "execute_result"
    }
   ],
   "source": [
    "scaled_df = scaler.transform(df.drop('TARGET CLASS',axis=1))\n",
    "scaled_df"
   ]
  },
  {
   "cell_type": "markdown",
   "metadata": {},
   "source": [
    "**Convert the scaled features to a dataframe and check the head of this dataframe to make sure the scaling worked.**"
   ]
  },
  {
   "cell_type": "code",
   "execution_count": 8,
   "metadata": {
    "ExecuteTime": {
     "end_time": "2024-05-21T09:48:06.589854200Z",
     "start_time": "2024-05-21T09:48:06.527781Z"
    }
   },
   "outputs": [
    {
     "data": {
      "text/plain": "       XVPM      GWYH      TRAT      TLLZ      IGGA      HYKR      EDFS  \\\n0  1.568522 -0.443435  1.619808 -0.958255 -1.128481  0.138336  0.980493   \n1 -0.112376 -1.056574  1.741918 -1.504220  0.640009  1.081552 -1.182663   \n2  0.660647 -0.436981  0.775793  0.213394 -0.053171  2.030872 -1.240707   \n3  0.011533  0.191324 -1.433473 -0.100053 -1.507223 -1.753632 -1.183561   \n4 -0.099059  0.820815 -0.904346  1.609015 -0.282065 -0.365099 -1.095644   \n\n       GUUB      MGJM      JHZC  \n0 -0.932794  1.008313 -1.069627  \n1 -0.461864  0.258321 -1.041546  \n2  1.149298  2.184784  0.342811  \n3 -0.888557  0.162310 -0.002793  \n4  0.391419 -1.365603  0.787762  ",
      "text/html": "<div>\n<style scoped>\n    .dataframe tbody tr th:only-of-type {\n        vertical-align: middle;\n    }\n\n    .dataframe tbody tr th {\n        vertical-align: top;\n    }\n\n    .dataframe thead th {\n        text-align: right;\n    }\n</style>\n<table border=\"1\" class=\"dataframe\">\n  <thead>\n    <tr style=\"text-align: right;\">\n      <th></th>\n      <th>XVPM</th>\n      <th>GWYH</th>\n      <th>TRAT</th>\n      <th>TLLZ</th>\n      <th>IGGA</th>\n      <th>HYKR</th>\n      <th>EDFS</th>\n      <th>GUUB</th>\n      <th>MGJM</th>\n      <th>JHZC</th>\n    </tr>\n  </thead>\n  <tbody>\n    <tr>\n      <th>0</th>\n      <td>1.568522</td>\n      <td>-0.443435</td>\n      <td>1.619808</td>\n      <td>-0.958255</td>\n      <td>-1.128481</td>\n      <td>0.138336</td>\n      <td>0.980493</td>\n      <td>-0.932794</td>\n      <td>1.008313</td>\n      <td>-1.069627</td>\n    </tr>\n    <tr>\n      <th>1</th>\n      <td>-0.112376</td>\n      <td>-1.056574</td>\n      <td>1.741918</td>\n      <td>-1.504220</td>\n      <td>0.640009</td>\n      <td>1.081552</td>\n      <td>-1.182663</td>\n      <td>-0.461864</td>\n      <td>0.258321</td>\n      <td>-1.041546</td>\n    </tr>\n    <tr>\n      <th>2</th>\n      <td>0.660647</td>\n      <td>-0.436981</td>\n      <td>0.775793</td>\n      <td>0.213394</td>\n      <td>-0.053171</td>\n      <td>2.030872</td>\n      <td>-1.240707</td>\n      <td>1.149298</td>\n      <td>2.184784</td>\n      <td>0.342811</td>\n    </tr>\n    <tr>\n      <th>3</th>\n      <td>0.011533</td>\n      <td>0.191324</td>\n      <td>-1.433473</td>\n      <td>-0.100053</td>\n      <td>-1.507223</td>\n      <td>-1.753632</td>\n      <td>-1.183561</td>\n      <td>-0.888557</td>\n      <td>0.162310</td>\n      <td>-0.002793</td>\n    </tr>\n    <tr>\n      <th>4</th>\n      <td>-0.099059</td>\n      <td>0.820815</td>\n      <td>-0.904346</td>\n      <td>1.609015</td>\n      <td>-0.282065</td>\n      <td>-0.365099</td>\n      <td>-1.095644</td>\n      <td>0.391419</td>\n      <td>-1.365603</td>\n      <td>0.787762</td>\n    </tr>\n  </tbody>\n</table>\n</div>"
     },
     "execution_count": 8,
     "metadata": {},
     "output_type": "execute_result"
    }
   ],
   "source": [
    "df_feat = pd.DataFrame(scaled_df, columns=df.columns[:-1])\n",
    "df_feat.head()"
   ]
  },
  {
   "cell_type": "markdown",
   "metadata": {},
   "source": [
    "# Train Test Split\n",
    "\n",
    "**Use train_test_split to split your data into a training set and a testing set.**"
   ]
  },
  {
   "cell_type": "code",
   "execution_count": 9,
   "metadata": {
    "collapsed": true,
    "ExecuteTime": {
     "end_time": "2024-05-21T09:48:06.711780500Z",
     "start_time": "2024-05-21T09:48:06.560773800Z"
    }
   },
   "outputs": [],
   "source": [
    "from sklearn.model_selection import train_test_split"
   ]
  },
  {
   "cell_type": "code",
   "execution_count": 10,
   "metadata": {
    "collapsed": true,
    "ExecuteTime": {
     "end_time": "2024-05-21T09:48:06.742782400Z",
     "start_time": "2024-05-21T09:48:06.652775700Z"
    }
   },
   "outputs": [],
   "source": [
    "X_train, X_test, y_train, y_test = train_test_split(scaled_df,df['TARGET CLASS'],\n",
    "                                                    test_size=0.30)"
   ]
  },
  {
   "cell_type": "markdown",
   "metadata": {},
   "source": [
    "# Using KNN\n",
    "\n",
    "**Import KNeighborsClassifier from scikit learn.**"
   ]
  },
  {
   "cell_type": "code",
   "execution_count": 11,
   "metadata": {
    "collapsed": true,
    "ExecuteTime": {
     "end_time": "2024-05-21T09:48:06.829774600Z",
     "start_time": "2024-05-21T09:48:06.668780100Z"
    }
   },
   "outputs": [],
   "source": [
    "from sklearn.neighbors import KNeighborsClassifier"
   ]
  },
  {
   "cell_type": "markdown",
   "metadata": {},
   "source": [
    "**Create a KNN model instance with n_neighbors=1**"
   ]
  },
  {
   "cell_type": "code",
   "execution_count": 12,
   "metadata": {
    "collapsed": true,
    "ExecuteTime": {
     "end_time": "2024-05-21T09:48:06.843781400Z",
     "start_time": "2024-05-21T09:48:06.829774600Z"
    }
   },
   "outputs": [],
   "source": [
    "knn = KNeighborsClassifier(n_neighbors=1)"
   ]
  },
  {
   "cell_type": "markdown",
   "metadata": {},
   "source": [
    "**Fit this KNN model to the training data.**"
   ]
  },
  {
   "cell_type": "code",
   "execution_count": 13,
   "metadata": {
    "ExecuteTime": {
     "end_time": "2024-05-21T09:48:06.886790900Z",
     "start_time": "2024-05-21T09:48:06.844772Z"
    }
   },
   "outputs": [
    {
     "data": {
      "text/plain": "KNeighborsClassifier(n_neighbors=1)",
      "text/html": "<style>#sk-container-id-2 {color: black;background-color: white;}#sk-container-id-2 pre{padding: 0;}#sk-container-id-2 div.sk-toggleable {background-color: white;}#sk-container-id-2 label.sk-toggleable__label {cursor: pointer;display: block;width: 100%;margin-bottom: 0;padding: 0.3em;box-sizing: border-box;text-align: center;}#sk-container-id-2 label.sk-toggleable__label-arrow:before {content: \"▸\";float: left;margin-right: 0.25em;color: #696969;}#sk-container-id-2 label.sk-toggleable__label-arrow:hover:before {color: black;}#sk-container-id-2 div.sk-estimator:hover label.sk-toggleable__label-arrow:before {color: black;}#sk-container-id-2 div.sk-toggleable__content {max-height: 0;max-width: 0;overflow: hidden;text-align: left;background-color: #f0f8ff;}#sk-container-id-2 div.sk-toggleable__content pre {margin: 0.2em;color: black;border-radius: 0.25em;background-color: #f0f8ff;}#sk-container-id-2 input.sk-toggleable__control:checked~div.sk-toggleable__content {max-height: 200px;max-width: 100%;overflow: auto;}#sk-container-id-2 input.sk-toggleable__control:checked~label.sk-toggleable__label-arrow:before {content: \"▾\";}#sk-container-id-2 div.sk-estimator input.sk-toggleable__control:checked~label.sk-toggleable__label {background-color: #d4ebff;}#sk-container-id-2 div.sk-label input.sk-toggleable__control:checked~label.sk-toggleable__label {background-color: #d4ebff;}#sk-container-id-2 input.sk-hidden--visually {border: 0;clip: rect(1px 1px 1px 1px);clip: rect(1px, 1px, 1px, 1px);height: 1px;margin: -1px;overflow: hidden;padding: 0;position: absolute;width: 1px;}#sk-container-id-2 div.sk-estimator {font-family: monospace;background-color: #f0f8ff;border: 1px dotted black;border-radius: 0.25em;box-sizing: border-box;margin-bottom: 0.5em;}#sk-container-id-2 div.sk-estimator:hover {background-color: #d4ebff;}#sk-container-id-2 div.sk-parallel-item::after {content: \"\";width: 100%;border-bottom: 1px solid gray;flex-grow: 1;}#sk-container-id-2 div.sk-label:hover label.sk-toggleable__label {background-color: #d4ebff;}#sk-container-id-2 div.sk-serial::before {content: \"\";position: absolute;border-left: 1px solid gray;box-sizing: border-box;top: 0;bottom: 0;left: 50%;z-index: 0;}#sk-container-id-2 div.sk-serial {display: flex;flex-direction: column;align-items: center;background-color: white;padding-right: 0.2em;padding-left: 0.2em;position: relative;}#sk-container-id-2 div.sk-item {position: relative;z-index: 1;}#sk-container-id-2 div.sk-parallel {display: flex;align-items: stretch;justify-content: center;background-color: white;position: relative;}#sk-container-id-2 div.sk-item::before, #sk-container-id-2 div.sk-parallel-item::before {content: \"\";position: absolute;border-left: 1px solid gray;box-sizing: border-box;top: 0;bottom: 0;left: 50%;z-index: -1;}#sk-container-id-2 div.sk-parallel-item {display: flex;flex-direction: column;z-index: 1;position: relative;background-color: white;}#sk-container-id-2 div.sk-parallel-item:first-child::after {align-self: flex-end;width: 50%;}#sk-container-id-2 div.sk-parallel-item:last-child::after {align-self: flex-start;width: 50%;}#sk-container-id-2 div.sk-parallel-item:only-child::after {width: 0;}#sk-container-id-2 div.sk-dashed-wrapped {border: 1px dashed gray;margin: 0 0.4em 0.5em 0.4em;box-sizing: border-box;padding-bottom: 0.4em;background-color: white;}#sk-container-id-2 div.sk-label label {font-family: monospace;font-weight: bold;display: inline-block;line-height: 1.2em;}#sk-container-id-2 div.sk-label-container {text-align: center;}#sk-container-id-2 div.sk-container {/* jupyter's `normalize.less` sets `[hidden] { display: none; }` but bootstrap.min.css set `[hidden] { display: none !important; }` so we also need the `!important` here to be able to override the default hidden behavior on the sphinx rendered scikit-learn.org. See: https://github.com/scikit-learn/scikit-learn/issues/21755 */display: inline-block !important;position: relative;}#sk-container-id-2 div.sk-text-repr-fallback {display: none;}</style><div id=\"sk-container-id-2\" class=\"sk-top-container\"><div class=\"sk-text-repr-fallback\"><pre>KNeighborsClassifier(n_neighbors=1)</pre><b>In a Jupyter environment, please rerun this cell to show the HTML representation or trust the notebook. <br />On GitHub, the HTML representation is unable to render, please try loading this page with nbviewer.org.</b></div><div class=\"sk-container\" hidden><div class=\"sk-item\"><div class=\"sk-estimator sk-toggleable\"><input class=\"sk-toggleable__control sk-hidden--visually\" id=\"sk-estimator-id-2\" type=\"checkbox\" checked><label for=\"sk-estimator-id-2\" class=\"sk-toggleable__label sk-toggleable__label-arrow\">KNeighborsClassifier</label><div class=\"sk-toggleable__content\"><pre>KNeighborsClassifier(n_neighbors=1)</pre></div></div></div></div></div>"
     },
     "execution_count": 13,
     "metadata": {},
     "output_type": "execute_result"
    }
   ],
   "source": [
    "knn.fit(X_train,y_train)"
   ]
  },
  {
   "cell_type": "markdown",
   "metadata": {},
   "source": [
    "# Predictions and Evaluations\n",
    "Let's evaluate our KNN model!"
   ]
  },
  {
   "cell_type": "markdown",
   "metadata": {},
   "source": [
    "**Use the predict method to predict values using your KNN model and X_test.**"
   ]
  },
  {
   "cell_type": "code",
   "execution_count": 14,
   "metadata": {
    "ExecuteTime": {
     "end_time": "2024-05-21T09:48:06.932784900Z",
     "start_time": "2024-05-21T09:48:06.864774300Z"
    }
   },
   "outputs": [],
   "source": [
    "pred = knn.predict(X_test)"
   ]
  },
  {
   "cell_type": "markdown",
   "metadata": {},
   "source": [
    "**Create a confusion matrix and classification report.**"
   ]
  },
  {
   "cell_type": "code",
   "execution_count": 15,
   "metadata": {
    "collapsed": true,
    "ExecuteTime": {
     "end_time": "2024-05-21T09:48:06.977776600Z",
     "start_time": "2024-05-21T09:48:06.891787900Z"
    }
   },
   "outputs": [],
   "source": [
    "from sklearn.metrics import classification_report,confusion_matrix"
   ]
  },
  {
   "cell_type": "code",
   "execution_count": 16,
   "metadata": {
    "ExecuteTime": {
     "end_time": "2024-05-21T09:48:06.979773600Z",
     "start_time": "2024-05-21T09:48:06.907784200Z"
    }
   },
   "outputs": [
    {
     "name": "stdout",
     "output_type": "stream",
     "text": [
      "[[106  45]\n",
      " [ 38 111]]\n"
     ]
    }
   ],
   "source": [
    "print(confusion_matrix(y_test,pred))"
   ]
  },
  {
   "cell_type": "code",
   "execution_count": 17,
   "metadata": {
    "ExecuteTime": {
     "end_time": "2024-05-21T09:48:07.068773300Z",
     "start_time": "2024-05-21T09:48:06.937790200Z"
    }
   },
   "outputs": [
    {
     "name": "stdout",
     "output_type": "stream",
     "text": [
      "              precision    recall  f1-score   support\n",
      "\n",
      "           0       0.74      0.70      0.72       151\n",
      "           1       0.71      0.74      0.73       149\n",
      "\n",
      "    accuracy                           0.72       300\n",
      "   macro avg       0.72      0.72      0.72       300\n",
      "weighted avg       0.72      0.72      0.72       300\n"
     ]
    }
   ],
   "source": [
    "print(classification_report(y_test,pred))"
   ]
  },
  {
   "cell_type": "markdown",
   "metadata": {},
   "source": [
    "# Choosing a K Value\n",
    "Let's go ahead and use the elbow method to pick a good K Value!\n",
    "\n",
    "**Create a for loop that trains various KNN models with different k values, then keep track of the error_rate for each of these models with a list. Refer to the lecture if you are confused on this step.**"
   ]
  },
  {
   "cell_type": "code",
   "execution_count": 18,
   "metadata": {
    "collapsed": true,
    "ExecuteTime": {
     "end_time": "2024-05-21T09:48:08.169273800Z",
     "start_time": "2024-05-21T09:48:06.974782300Z"
    }
   },
   "outputs": [],
   "source": [
    "error_rate = []\n",
    "\n",
    "# Will take some time\n",
    "for i in range(1,40):\n",
    "    \n",
    "    knn = KNeighborsClassifier(n_neighbors=i)\n",
    "    knn.fit(X_train,y_train)\n",
    "    pred_i = knn.predict(X_test)\n",
    "    error_rate.append(np.mean(pred_i != y_test))"
   ]
  },
  {
   "cell_type": "markdown",
   "metadata": {},
   "source": [
    "**Now create the following plot using the information from your for loop.**"
   ]
  },
  {
   "cell_type": "code",
   "execution_count": 19,
   "metadata": {
    "ExecuteTime": {
     "end_time": "2024-05-21T09:48:08.712771500Z",
     "start_time": "2024-05-21T09:48:08.175873700Z"
    }
   },
   "outputs": [
    {
     "data": {
      "text/plain": "Text(0, 0.5, 'Error Rate')"
     },
     "execution_count": 19,
     "metadata": {},
     "output_type": "execute_result"
    },
    {
     "data": {
      "text/plain": "<Figure size 1000x600 with 1 Axes>",
      "image/png": "[encoded data removed]"
     },
     "metadata": {},
     "output_type": "display_data"
    }
   ],
   "source": [
    "plt.figure(figsize=(10,6))\n",
    "plt.plot(range(1,40),error_rate,color='blue', linestyle='dashed', marker='o',\n",
    "         markerfacecolor='red', markersize=10)\n",
    "plt.title('Error Rate vs. K Value')\n",
    "plt.xlabel('K')\n",
    "plt.ylabel('Error Rate')"
   ]
  },
  {
   "cell_type": "markdown",
   "metadata": {},
   "source": [
    "## Retrain with new K Value\n",
    "\n",
    "**Retrain your model with the best K value (up to you to decide what you want) and re-do the classification report and the confusion matrix.**"
   ]
  },
  {
   "cell_type": "code",
   "execution_count": 20,
   "metadata": {
    "ExecuteTime": {
     "end_time": "2024-05-21T09:48:08.814771700Z",
     "start_time": "2024-05-21T09:48:08.714779900Z"
    }
   },
   "outputs": [
    {
     "name": "stdout",
     "output_type": "stream",
     "text": [
      "WITH K=30\n",
      "\n",
      "\n",
      "[[119  32]\n",
      " [ 18 131]]\n",
      "\n",
      "\n",
      "              precision    recall  f1-score   support\n",
      "\n",
      "           0       0.87      0.79      0.83       151\n",
      "           1       0.80      0.88      0.84       149\n",
      "\n",
      "    accuracy                           0.83       300\n",
      "   macro avg       0.84      0.83      0.83       300\n",
      "weighted avg       0.84      0.83      0.83       300\n"
     ]
    }
   ],
   "source": [
    "knn = KNeighborsClassifier(n_neighbors=30)\n",
    "\n",
    "knn.fit(X_train,y_train)\n",
    "pred = knn.predict(X_test)\n",
    "\n",
    "print('WITH K=30')\n",
    "print('\\n')\n",
    "print(confusion_matrix(y_test,pred))\n",
    "print('\\n')\n",
    "print(classification_report(y_test,pred))"
   ]
  }
 ],
 "metadata": {
  "kernelspec": {
   "display_name": "Python 3 (ipykernel)",
   "language": "python",
   "name": "python3"
  },
  "language_info": {
   "codemirror_mode": {
    "name": "ipython",
    "version": 3
   },
   "file_extension": ".py",
   "mimetype": "text/x-python",
   "name": "python",
   "nbconvert_exporter": "python",
   "pygments_lexer": "ipython3",
   "version": "3.9.7"
  }
 },
 "nbformat": 4,
 "nbformat_minor": 1
}
